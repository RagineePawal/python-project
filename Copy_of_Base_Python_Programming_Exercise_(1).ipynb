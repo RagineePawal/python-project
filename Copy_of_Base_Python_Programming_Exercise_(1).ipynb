{
  "cells": [
    {
      "cell_type": "markdown",
      "metadata": {
        "id": "CV7kZgBmJ5IC"
      },
      "source": [
        "## Python Basic Programming Exercises"
      ]
    },
    {
      "cell_type": "raw",
      "metadata": {
        "id": "6fYmwtKWJ5IF"
      },
      "source": [
        "#Q1: What is the output of following expression\n",
        "    5 + 4 * 9 % (3 + 1) / 6 - 1"
      ]
    },
    {
      "cell_type": "code",
      "execution_count": null,
      "metadata": {
        "colab": {
          "base_uri": "https://localhost:8080/"
        },
        "id": "oPKlLK-hJ5IF",
        "outputId": "4284a4cd-260a-45ad-d98e-fdf7c92504ec"
      },
      "outputs": [
        {
          "name": "stdout",
          "output_type": "stream",
          "text": [
            "4.0\n"
          ]
        }
      ],
      "source": [
        "result = 5 + 4 * 9 % (3 + 1) / 6 - 1\n",
        "print(result)"
      ]
    },
    {
      "cell_type": "raw",
      "metadata": {
        "id": "xxDlrnBvJ5IG"
      },
      "source": [
        "Q2: Write a program to check if a Number is Odd or Even. Take number as a input from user at runtime."
      ]
    },
    {
      "cell_type": "code",
      "execution_count": null,
      "metadata": {
        "colab": {
          "base_uri": "https://localhost:8080/"
        },
        "id": "JaLWPMmtJ5IG",
        "outputId": "0e1cc7c0-a1c5-4c49-b61c-6fd833c85a3d"
      },
      "outputs": [
        {
          "name": "stdout",
          "output_type": "stream",
          "text": [
            "Enter any number to test whether it is odd or even:68\n",
            "The number is even\n"
          ]
        }
      ],
      "source": [
        "num= int(input(\"Enter any number to test whether it is odd or even:\"))\n",
        "if(num%2)==0:\n",
        "  print(\"The number is even\")\n",
        "else:\n",
        "    print(\"The given number is odd:\")"
      ]
    },
    {
      "cell_type": "raw",
      "metadata": {
        "id": "zqZ-cNtzJ5IG"
      },
      "source": [
        "Q3: Write a program to display the multiplication table by taking a number as input.\n",
        "    [Hint : Use print statement inside of a loop]"
      ]
    },
    {
      "cell_type": "code",
      "execution_count": null,
      "metadata": {
        "colab": {
          "base_uri": "https://localhost:8080/"
        },
        "id": "7YrMLYnLJ5IH",
        "outputId": "c1a44961-d94b-42cb-94dc-77d361e14caf"
      },
      "outputs": [
        {
          "name": "stdout",
          "output_type": "stream",
          "text": [
            "Enter the number of which the multiplication table is to be calculated 5\n",
            "The multiplication table of: 5\n",
            "5 x 1 = 5\n",
            "5 x 2 = 10\n",
            "5 x 3 = 15\n",
            "5 x 4 = 20\n",
            "5 x 5 = 25\n",
            "5 x 6 = 30\n",
            "5 x 7 = 35\n",
            "5 x 8 = 40\n",
            "5 x 9 = 45\n",
            "5 x 10 = 50\n"
          ]
        }
      ],
      "source": [
        "num=int(input(\"Enter the number of which the multiplication table is to be calculated \"))\n",
        "print(\"The multiplication table of:\",num)\n",
        "for count in range(1,11):\n",
        "    print(num,'x',count,'=',num*count)"
      ]
    },
    {
      "cell_type": "raw",
      "metadata": {
        "id": "kySPZSX7J5IH"
      },
      "source": [
        "Q4: Write a program which will find all numbers between 2000 and 3200 which are divisible by 7\n",
        "    but are not a multiple of 5.\n",
        "\n",
        "Note: The numbers obtained should be printed in a comma-separated sequence on a single line."
      ]
    },
    {
      "cell_type": "code",
      "execution_count": null,
      "metadata": {
        "colab": {
          "base_uri": "https://localhost:8080/"
        },
        "id": "PDEdice_J5IH",
        "outputId": "40f96693-7bda-478b-8e77-0faf16d8c189"
      },
      "outputs": [
        {
          "name": "stdout",
          "output_type": "stream",
          "text": [
            "2002,2009,2016,2023,2037,2044,2051,2058,2072,2079,2086,2093,2107,2114,2121,2128,2142,2149,2156,2163,2177,2184,2191,2198,2212,2219,2226,2233,2247,2254,2261,2268,2282,2289,2296,2303,2317,2324,2331,2338,2352,2359,2366,2373,2387,2394,2401,2408,2422,2429,2436,2443,2457,2464,2471,2478,2492,2499,2506,2513,2527,2534,2541,2548,2562,2569,2576,2583,2597,2604,2611,2618,2632,2639,2646,2653,2667,2674,2681,2688,2702,2709,2716,2723,2737,2744,2751,2758,2772,2779,2786,2793,2807,2814,2821,2828,2842,2849,2856,2863,2877,2884,2891,2898,2912,2919,2926,2933,2947,2954,2961,2968,2982,2989,2996,3003,3017,3024,3031,3038,3052,3059,3066,3073,3087,3094,3101,3108,3122,3129,3136,3143,3157,3164,3171,3178,3192,3199\n"
          ]
        }
      ],
      "source": [
        "result=[]\n",
        "for num in range(2000,3201):\n",
        "    if num%7==0 and num%5!=0:\n",
        "        result.append(str(num))\n",
        "print(','.join(result))"
      ]
    },
    {
      "cell_type": "raw",
      "metadata": {
        "id": "PbjZ2ht9J5IH"
      },
      "source": [
        "Q5: Count the elements of each datatype inside the list and display in output\n",
        "    [2, 3, 'Py', '10', 1, 'SQL', 5.5, True, 3, 'John', None, 7]"
      ]
    },
    {
      "cell_type": "code",
      "execution_count": null,
      "metadata": {
        "colab": {
          "base_uri": "https://localhost:8080/"
        },
        "id": "2XF0AV_JJ5IH",
        "outputId": "da016114-bd32-4704-863b-3e0535ad94d8"
      },
      "outputs": [
        {
          "name": "stdout",
          "output_type": "stream",
          "text": [
            "int: 5\n",
            "str: 4\n",
            "float: 1\n",
            "bool: 1\n",
            "NoneType: 1\n"
          ]
        }
      ],
      "source": [
        "data_list = [2, 3, 'Py', '10', 1, 'SQL', 5.5, True, 3, 'John', None, 7]\n",
        "\n",
        "type_count = {}\n",
        "\n",
        "for item in data_list:\n",
        "    item_type = type(item)\n",
        "\n",
        "    if item_type in type_count:\n",
        "        type_count[item_type] += 1\n",
        "    else:\n",
        "        type_count[item_type] = 1\n",
        "\n",
        "for data_type, count in type_count.items():\n",
        "    print(f\"{data_type.__name__}: {count}\")"
      ]
    },
    {
      "cell_type": "raw",
      "metadata": {
        "id": "tUjSldIkJ5IH"
      },
      "source": [
        "Q6: Add all values from the list with numeric datatypes\n",
        "    [2, 3, 'Py', '10', 1, 'SQL', 5.5, True, 3, 'John', None, 7]"
      ]
    },
    {
      "cell_type": "code",
      "execution_count": null,
      "metadata": {
        "colab": {
          "base_uri": "https://localhost:8080/"
        },
        "id": "S9YNrXdEJ5II",
        "outputId": "a22083ee-41da-42df-dee0-b111fb563920"
      },
      "outputs": [
        {
          "name": "stdout",
          "output_type": "stream",
          "text": [
            "Sum of numeric values: 22.5\n"
          ]
        }
      ],
      "source": [
        "data_list = [2, 3, 'Py', '10', 1, 'SQL', 5.5, True, 3, 'John', None, 7]\n",
        "\n",
        "total_sum = 0\n",
        "\n",
        "for item in data_list:\n",
        "\n",
        "    if isinstance(item, (int, float)):\n",
        "        total_sum += item\n",
        "\n",
        "print(\"Sum of numeric values:\", total_sum)"
      ]
    },
    {
      "cell_type": "raw",
      "metadata": {
        "id": "B04rP3zBJ5II"
      },
      "source": [
        "Q7: Concat all str datatypes with hyphen as a delimiter\n",
        "    [2, 3, 'Py', '10', 1, 'SQL', 5.5, True, 3, 'John', None, 7]"
      ]
    },
    {
      "cell_type": "code",
      "execution_count": null,
      "metadata": {
        "colab": {
          "base_uri": "https://localhost:8080/"
        },
        "id": "xxFpEumLJ5II",
        "outputId": "2bbcbf6c-48d7-48b8-db8d-3f26dda1f9d1"
      },
      "outputs": [
        {
          "name": "stdout",
          "output_type": "stream",
          "text": [
            "Concatenated string: Py-10-SQL-John\n"
          ]
        }
      ],
      "source": [
        "data_list = [2, 3, 'Py', '10', 1, 'SQL', 5.5, True, 3, 'John', None, 7]\n",
        "\n",
        "string_elements = []\n",
        "\n",
        "for item in data_list:\n",
        "\n",
        "    if isinstance(item, str):\n",
        "        string_elements.append(item)\n",
        "\n",
        "result = '-'.join(string_elements)\n",
        "\n",
        "print(\"Concatenated string:\", result)"
      ]
    },
    {
      "cell_type": "raw",
      "metadata": {
        "id": "8ruWnL7EJ5II"
      },
      "source": [
        "Q8 Get only odd numbers from the following list and store the numbers in new list\n",
        "    li = [5, 7, 22, 97, 54, 62, 77, 23, 73, 61]\n",
        "\n",
        "    i. Use loops to get the answer\n",
        "   ii. Use list comprehensions\n",
        "  iii. Use lambda function with filter"
      ]
    },
    {
      "cell_type": "code",
      "execution_count": null,
      "metadata": {
        "colab": {
          "base_uri": "https://localhost:8080/"
        },
        "id": "MZIiGu77J5II",
        "outputId": "f0488ccd-882b-49ed-d711-17732c3dc8ce"
      },
      "outputs": [
        {
          "name": "stdout",
          "output_type": "stream",
          "text": [
            "Odd numbers using loops: [5, 7, 97, 77, 23, 73, 61]\n",
            "Odd numbers using list comprehension: [5, 7, 97, 77, 23, 73, 61]\n",
            "Odd numbers using lambda and filter: [5, 7, 97, 77, 23, 73, 61]\n"
          ]
        }
      ],
      "source": [
        "\n",
        "li = [5, 7, 22, 97, 54, 62, 77, 23, 73, 61]\n",
        "\n",
        "# Using a loop to get odd numbers\n",
        "odd_numbers_loop = []\n",
        "for number in li:\n",
        "    if number % 2 != 0:\n",
        "        odd_numbers_loop.append(number)\n",
        "\n",
        "print(\"Odd numbers using loops:\", odd_numbers_loop)\n",
        "\n",
        "# Using list comprehension to get odd numbers\n",
        "odd_numbers_comprehension = [number for number in li if number % 2 != 0]\n",
        "\n",
        "print(\"Odd numbers using list comprehension:\", odd_numbers_comprehension)\n",
        "\n",
        "# Using lambda function with filter to get odd numbers\n",
        "odd_numbers_filter = list(filter(lambda x: x % 2 != 0, li))\n",
        "\n",
        "print(\"Odd numbers using lambda and filter:\", odd_numbers_filter)\n"
      ]
    },
    {
      "cell_type": "raw",
      "metadata": {
        "id": "iSUptHqFJ5II"
      },
      "source": [
        "Q9: Write an udf to calculate the area of different shapes\n",
        "\n",
        "Take shape and dimensions as arguments to udf as follows :\n",
        "\n",
        "1. square which has side\n",
        "2. rectangle which has length and width\n",
        "3. circle which has radius\n",
        "\n",
        "The shape should be a positional argument and it's dimensions are taken as kwargs\n",
        "\n",
        "Perform proper validation for the user inputs and then calculate area.\n",
        "\n",
        "E.g. if shape is square, ensure kwargs has \"side\" and if so, then you may return the area, else display appropriate error message like \"Please enter 'side' for a square\""
      ]
    },
    {
      "cell_type": "code",
      "execution_count": null,
      "metadata": {
        "id": "N0YtrFXjJ5II"
      },
      "outputs": [],
      "source": [
        "\n",
        "def calculate_area(shape, **kwargs):\n",
        "    if shape == \"square\":\n",
        "        side = kwargs.get(\"side\")\n",
        "        if side is not None:\n",
        "            if isinstance(side, (int, float)) and side >= 0:\n",
        "                return side ** 2\n",
        "            else:\n",
        "                return \"Side must be a non-negative number.\"\n",
        "        else:\n",
        "            return \"Please enter 'side' for a square.\"\n",
        "\n",
        "    elif shape == \"rectangle\":\n",
        "        length = kwargs.get(\"length\")\n",
        "        width = kwargs.get(\"width\")\n",
        "        if length is not None and width is not None:\n",
        "            if (isinstance(length, (int, float)) and length >= 0) and \\\n",
        "               (isinstance(width, (int, float)) and width >= 0):\n",
        "                return length * width\n",
        "            else:\n",
        "                return \"Length and width must be non-negative numbers.\"\n",
        "        else:\n",
        "            return \"Please enter 'length' and 'width' for a rectangle.\"\n",
        "\n",
        "    elif shape == \"circle\":\n",
        "        radius = kwargs.get(\"radius\")\n",
        "        if radius is not None:\n",
        "            if isinstance(radius, (int, float)) and radius >= 0:\n",
        "                return 3.14159 * radius ** 2  # Using π ≈ 3.14159\n",
        "            else:\n",
        "                return \"Radius must be a non-negative number.\"\n",
        "        else:\n",
        "            return \"Please enter 'radius' for a circle.\"\n",
        "\n",
        "    else:\n",
        "        return \"Shape not recognized. Please use 'square', 'rectangle', or 'circle'.\""
      ]
    },
    {
      "cell_type": "raw",
      "metadata": {
        "collapsed": true,
        "id": "Y9FGp0tkJ5IJ",
        "jupyter": {
          "outputs_hidden": true
        }
      },
      "source": [
        "Q10: write a UDF to check if a number is prime or not."
      ]
    },
    {
      "cell_type": "raw",
      "metadata": {
        "collapsed": true,
        "id": "l3F16Qf0J5IJ",
        "jupyter": {
          "outputs_hidden": true
        }
      },
      "source": [
        "\n"
      ]
    },
    {
      "cell_type": "code",
      "execution_count": null,
      "metadata": {
        "id": "qo-zJcDlWzcH"
      },
      "outputs": [],
      "source": [
        "def is_prime(n):\n",
        "    \"\"\"Check if a number is prime.\"\"\"\n",
        "    if n <= 1:\n",
        "        return False\n",
        "    if n <= 3:\n",
        "        return True\n",
        "\n",
        "    if n % 2 == 0 or n % 3 == 0:\n",
        "        return False\n",
        "\n",
        "    i = 5\n",
        "    while i * i <= n:\n",
        "        if n % i == 0 or n % (i + 2) == 0:\n",
        "            return False\n",
        "        i += 6\n",
        "\n",
        "    return True"
      ]
    },
    {
      "cell_type": "raw",
      "metadata": {
        "collapsed": true,
        "id": "dCm_hto-J5IJ",
        "jupyter": {
          "outputs_hidden": true
        }
      },
      "source": [
        "Q11. Write a program that takes a string and returns reversed string. i.e. if input is \"abcd123\" output should be \"321dcba\""
      ]
    },
    {
      "cell_type": "code",
      "execution_count": null,
      "metadata": {
        "colab": {
          "base_uri": "https://localhost:8080/"
        },
        "id": "yqBSPeBCJ5IJ",
        "outputId": "7a9b0520-fb21-4362-ada9-213f0bfe888e"
      },
      "outputs": [
        {
          "name": "stdout",
          "output_type": "stream",
          "text": [
            "Enter a string: 4\n",
            "Reversed string: 4\n"
          ]
        }
      ],
      "source": [
        "def reverse_string(input_string):\n",
        "    \"\"\"Return the reversed version of the input string.\"\"\"\n",
        "    return input_string[::-1]\n",
        "\n",
        "user_input = input(\"Enter a string: \")\n",
        "\n",
        "reversed_string = reverse_string(user_input)\n",
        "print(\"Reversed string:\", reversed_string)"
      ]
    }
  ],
  "metadata": {
    "colab": {
      "provenance": []
    },
    "kernelspec": {
      "display_name": "Python 3 (ipykernel)",
      "language": "python",
      "name": "python3"
    },
    "language_info": {
      "codemirror_mode": {
        "name": "ipython",
        "version": 3
      },
      "file_extension": ".py",
      "mimetype": "text/x-python",
      "name": "python",
      "nbconvert_exporter": "python",
      "pygments_lexer": "ipython3",
      "version": "3.12.4"
    },
    "varInspector": {
      "cols": {
        "lenName": 16,
        "lenType": 16,
        "lenVar": 40
      },
      "kernels_config": {
        "python": {
          "delete_cmd_postfix": "",
          "delete_cmd_prefix": "del ",
          "library": "var_list.py",
          "varRefreshCmd": "print(var_dic_list())"
        },
        "r": {
          "delete_cmd_postfix": ") ",
          "delete_cmd_prefix": "rm(",
          "library": "var_list.r",
          "varRefreshCmd": "cat(var_dic_list()) "
        }
      },
      "types_to_exclude": [
        "module",
        "function",
        "builtin_function_or_method",
        "instance",
        "_Feature"
      ],
      "window_display": false
    }
  },
  "nbformat": 4,
  "nbformat_minor": 0
}
